{
  "nbformat": 4,
  "nbformat_minor": 0,
  "metadata": {
    "colab": {
      "provenance": []
    },
    "kernelspec": {
      "name": "python3",
      "display_name": "Python 3"
    },
    "language_info": {
      "name": "python"
    }
  },
  "cells": [
    {
      "cell_type": "markdown",
      "source": [
        "# **Задание 1. Определение концептуальных основ дипломного проекта в области информационных систем**"
      ],
      "metadata": {
        "id": "RSDLIkruzS6g"
      }
    },
    {
      "cell_type": "markdown",
      "source": [
        "\n",
        "\n",
        "В рамках дисциплины \"Управление проектами информационных систем\" представьте развернутое концептуальное обоснование вашего проекта, ответив на следующие вопросы:\n"
      ],
      "metadata": {
        "id": "fht3SrjwzaDG"
      }
    },
    {
      "cell_type": "markdown",
      "source": [
        "#### **1. Обоснование необходимости разработки**\n"
      ],
      "metadata": {
        "id": "MHe-tCEk1Zf1"
      }
    },
    {
      "cell_type": "markdown",
      "source": [
        "Для кого предназначено разрабатываемое Вами решение и какие потребности целевой аудитории оно призвано удовлетворить?\n",
        "\n",
        "\n"
      ],
      "metadata": {
        "id": "QLlpMqMc1bJ9"
      }
    },
    {
      "cell_type": "markdown",
      "source": [
        "*Обоснуйте актуальность решаемой проблемы для конкретных заинтересованных сторон.*"
      ],
      "metadata": {
        "id": "-TvKTzxG2rCM"
      }
    },
    {
      "cell_type": "markdown",
      "source": [
        "Для выявления медиа контента, сгенерированных ИИ\n",
        "\n",
        "Распространение фейков и манипулятивных текстов в СМИ, интернете"
      ],
      "metadata": {
        "id": "Pu36Me7u1v3G"
      }
    },
    {
      "cell_type": "markdown",
      "source": [
        "---"
      ],
      "metadata": {
        "id": "SvbCSHi32sEs"
      }
    },
    {
      "cell_type": "markdown",
      "source": [
        "#### **2. Ожидаемые результаты проекта**\n",
        "\n"
      ],
      "metadata": {
        "id": "8kobDNLu1Sfk"
      }
    },
    {
      "cell_type": "markdown",
      "source": [
        "Опишите конкретные результаты, которые планируется получить по завершении проекта. Какой программный продукт, методика или информационная система будет создан/создана в результате вашей работы?"
      ],
      "metadata": {
        "id": "7UamiUwh1Vi0"
      }
    },
    {
      "cell_type": "markdown",
      "source": [
        "Методология обнаружения сгенерированного контента на основе лингвистической модели"
      ],
      "metadata": {
        "id": "aS6Yn3Eq2DZM"
      }
    },
    {
      "cell_type": "markdown",
      "source": [
        "---"
      ],
      "metadata": {
        "id": "rEoVAS0827Ug"
      }
    },
    {
      "cell_type": "markdown",
      "source": [
        "#### **3. Методология использования**\n"
      ],
      "metadata": {
        "id": "G2nrOC9O1Qnr"
      }
    },
    {
      "cell_type": "markdown",
      "source": [
        "Каким образом предполагается практическое применение разрабатываемого решения? Опишите основные сценарии взаимодействия пользователей с разрабатываемым решением."
      ],
      "metadata": {
        "id": "ddwXkfO91Ppy"
      }
    },
    {
      "cell_type": "markdown",
      "source": [
        "Самостоятельный веб-интерфейс — загрузка текста, получение вердикта + ???объяснение (какие признаки вызвали срабатывание)"
      ],
      "metadata": {
        "id": "2uEjgSrX2Dp8"
      }
    },
    {
      "cell_type": "markdown",
      "source": [
        "---"
      ],
      "metadata": {
        "id": "-jwyeWoq27ob"
      }
    },
    {
      "cell_type": "markdown",
      "source": [
        "#### **4. Входные данные и их источники**\n"
      ],
      "metadata": {
        "id": "sx39Ws851OIy"
      }
    },
    {
      "cell_type": "markdown",
      "source": [
        "Какие типы данных будут использоваться в качестве входных данных для вашего решения? В каком формате они будут представлены и из каких источников планируется их получение?"
      ],
      "metadata": {
        "id": "Awf8ot1_1LNd"
      }
    },
    {
      "cell_type": "markdown",
      "source": [
        "Входные данные: текстовые документы на русском языке\n",
        "\n",
        "Источики: рельные тексты - литературные произведения, статьи, посты; сгенерированные тексты - ГигаЧат, Яндекс GPT и другие модели"
      ],
      "metadata": {
        "id": "x7UBFvAg2D5w"
      }
    },
    {
      "cell_type": "markdown",
      "source": [
        "---"
      ],
      "metadata": {
        "id": "zPqZk2eB273x"
      }
    },
    {
      "cell_type": "markdown",
      "source": [
        "#### **5. Выходные данные и практическая значимость**\n"
      ],
      "metadata": {
        "id": "vSvE4XVs1Kdz"
      }
    },
    {
      "cell_type": "markdown",
      "source": [
        "Какие результаты будет формировать Ваше решение на выходе?"
      ],
      "metadata": {
        "id": "ddEUPzCN4Meh"
      }
    },
    {
      "cell_type": "markdown",
      "source": [
        "Вероятностная оценка (0.0–1.0): насколько вероятно, что текст сгенерирован ИИ (возможны дополнения)"
      ],
      "metadata": {
        "id": "Udg0DpfQ4uy5"
      }
    },
    {
      "cell_type": "markdown",
      "source": [
        "---"
      ],
      "metadata": {
        "id": "ZtROAxy65Q8h"
      }
    },
    {
      "cell_type": "markdown",
      "source": [
        "Опишите конкретно и без \"воды\" пользу (практическую ценность), которую заинтересованные стороны получат от использования этих результатов."
      ],
      "metadata": {
        "id": "6okOo97t1Ibw"
      }
    },
    {
      "cell_type": "markdown",
      "source": [
        "???Маркировка контента с ИИ\n",
        "\n",
        "Открытая методология для дальнейшего развития детекции"
      ],
      "metadata": {
        "id": "nakQvmh-2EIJ"
      }
    },
    {
      "cell_type": "markdown",
      "source": [
        "---"
      ],
      "metadata": {
        "id": "GGfRvLm728G7"
      }
    }
  ]
}